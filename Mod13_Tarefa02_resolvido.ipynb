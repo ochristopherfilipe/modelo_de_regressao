{
 "cells": [
  {
   "cell_type": "markdown",
   "metadata": {},
   "source": [
    "# EBAC - Regressão II - regressão múltipla\n",
    "\n",
    "## Tarefa I"
   ]
  },
  {
   "cell_type": "markdown",
   "metadata": {},
   "source": [
    "#### Previsão de renda II\n",
    "\n",
    "Vamos continuar trabalhando com a base 'previsao_de_renda.csv', que é a base do seu próximo projeto. Vamos usar os recursos que vimos até aqui nesta base.\n",
    "\n",
    "|variavel|descrição|\n",
    "|-|-|\n",
    "|data_ref                | Data de referência de coleta das variáveis |\n",
    "|index                   | Código de identificação do cliente|\n",
    "|sexo                    | Sexo do cliente|\n",
    "|posse_de_veiculo        | Indica se o cliente possui veículo|\n",
    "|posse_de_imovel         | Indica se o cliente possui imóvel|\n",
    "|qtd_filhos              | Quantidade de filhos do cliente|\n",
    "|tipo_renda              | Tipo de renda do cliente|\n",
    "|educacao                | Grau de instrução do cliente|\n",
    "|estado_civil            | Estado civil do cliente|\n",
    "|tipo_residencia         | Tipo de residência do cliente (própria, alugada etc)|\n",
    "|idade                   | Idade do cliente|\n",
    "|tempo_emprego           | Tempo no emprego atual|\n",
    "|qt_pessoas_residencia   | Quantidade de pessoas que moram na residência|\n",
    "|renda                   | Renda em reais|"
   ]
  },
  {
   "cell_type": "code",
   "execution_count": 248,
   "metadata": {},
   "outputs": [],
   "source": [
    "import pandas as pd\n",
    "import numpy as np\n",
    "\n",
    "import seaborn as sns\n",
    "import matplotlib.pyplot as plt\n",
    "\n",
    "from sklearn.model_selection import train_test_split\n",
    "from sklearn import metrics\n",
    "from sklearn.ensemble import RandomForestClassifier\n",
    "from sklearn.metrics import r2_score\n",
    "from sklearn.tree import DecisionTreeRegressor\n",
    "from sklearn import tree\n",
    "from sklearn.metrics import mean_squared_error\n",
    "from sklearn.preprocessing import LabelEncoder\n",
    "\n",
    "from scipy.stats import ks_2samp\n",
    "import statsmodels.formula.api as smf\n",
    "import statsmodels.api as sm\n",
    "import patsy\n",
    "\n",
    "%matplotlib inline"
   ]
  },
  {
   "cell_type": "code",
   "execution_count": 249,
   "metadata": {},
   "outputs": [],
   "source": [
    "df = pd.read_csv('previsao_de_renda.csv')"
   ]
  },
  {
   "cell_type": "code",
   "execution_count": 250,
   "metadata": {},
   "outputs": [],
   "source": [
    "df = df.dropna()\n",
    "df = df.drop('Unnamed: 0', axis=1)"
   ]
  },
  {
   "cell_type": "markdown",
   "metadata": {},
   "source": [
    "1. Separe a base em treinamento e teste (25% para teste, 75% para treinamento).\n",
    "2. Rode uma regularização *ridge* com alpha = [0, 0.001, 0.005, 0.01, 0.05, 0.1] e avalie o $R^2$ na base de testes. Qual o melhor modelo?\n",
    "3. Faça o mesmo que no passo 2, com uma regressão *LASSO*. Qual método chega a um melhor resultado?\n",
    "4. Rode um modelo *stepwise*. Avalie o $R^2$ na base de testes. Qual o melhor resultado?\n",
    "5. Compare os parâmetros e avalie eventuais diferenças. Qual modelo você acha o melhor de todos?\n",
    "6. Partindo dos modelos que você ajustou, tente melhorar o $R^2$ na base de testes. Use a criatividade, veja se consegue inserir alguma transformação ou combinação de variáveis.\n",
    "7. Ajuste uma árvore de regressão e veja se consegue um $R^2$ melhor com ela."
   ]
  },
  {
   "cell_type": "code",
   "execution_count": 251,
   "metadata": {},
   "outputs": [
    {
     "name": "stdout",
     "output_type": "stream",
     "text": [
      "Tamanho dos conjuntos de treinamento:\n",
      "(9320, 4) (9320,)\n",
      "\n",
      "Tamanho dos conjuntos de teste:\n",
      "(3107, 4) (3107,)\n"
     ]
    }
   ],
   "source": [
    "# Definindo as colunas que serão usadas como features (X) e o alvo (y)\n",
    "features = ['sexo', 'tipo_renda', 'educacao', 'tempo_emprego']\n",
    "alvo = 'renda'\n",
    "\n",
    "X = df[features]\n",
    "y = df[alvo]\n",
    "\n",
    "# Separando 25% para teste e 75% para treinamento\n",
    "X_treino, X_teste, y_treino, y_teste = train_test_split(X, y, test_size=0.25, random_state=42)\n",
    "\n",
    "# Verificando o tamanho dos conjuntos de treinamento e teste\n",
    "print(\"Tamanho dos conjuntos de treinamento:\")\n",
    "print(X_treino.shape, y_treino.shape)\n",
    "\n",
    "print(\"\\nTamanho dos conjuntos de teste:\")\n",
    "print(X_teste.shape, y_teste.shape)\n",
    "\n"
   ]
  },
  {
   "cell_type": "code",
   "execution_count": 252,
   "metadata": {},
   "outputs": [
    {
     "data": {
      "text/html": [
       "<div>\n",
       "<style scoped>\n",
       "    .dataframe tbody tr th:only-of-type {\n",
       "        vertical-align: middle;\n",
       "    }\n",
       "\n",
       "    .dataframe tbody tr th {\n",
       "        vertical-align: top;\n",
       "    }\n",
       "\n",
       "    .dataframe thead th {\n",
       "        text-align: right;\n",
       "    }\n",
       "</style>\n",
       "<table border=\"1\" class=\"dataframe\">\n",
       "  <thead>\n",
       "    <tr style=\"text-align: right;\">\n",
       "      <th></th>\n",
       "      <th>Alpha</th>\n",
       "      <th>R2</th>\n",
       "    </tr>\n",
       "  </thead>\n",
       "  <tbody>\n",
       "    <tr>\n",
       "      <th>0</th>\n",
       "      <td>0.000</td>\n",
       "      <td>0.296249</td>\n",
       "    </tr>\n",
       "    <tr>\n",
       "      <th>1</th>\n",
       "      <td>0.001</td>\n",
       "      <td>0.296271</td>\n",
       "    </tr>\n",
       "    <tr>\n",
       "      <th>2</th>\n",
       "      <td>0.005</td>\n",
       "      <td>0.296372</td>\n",
       "    </tr>\n",
       "    <tr>\n",
       "      <th>3</th>\n",
       "      <td>0.010</td>\n",
       "      <td>0.296403</td>\n",
       "    </tr>\n",
       "    <tr>\n",
       "      <th>4</th>\n",
       "      <td>0.050</td>\n",
       "      <td>0.293131</td>\n",
       "    </tr>\n",
       "    <tr>\n",
       "      <th>5</th>\n",
       "      <td>0.100</td>\n",
       "      <td>0.285581</td>\n",
       "    </tr>\n",
       "  </tbody>\n",
       "</table>\n",
       "</div>"
      ],
      "text/plain": [
       "   Alpha        R2\n",
       "0  0.000  0.296249\n",
       "1  0.001  0.296271\n",
       "2  0.005  0.296372\n",
       "3  0.010  0.296403\n",
       "4  0.050  0.293131\n",
       "5  0.100  0.285581"
      ]
     },
     "execution_count": 252,
     "metadata": {},
     "output_type": "execute_result"
    }
   ],
   "source": [
    "# Criando uma lista com os valores de alpha\n",
    "alphas = [0, 0.001, 0.005, 0.01, 0.05, 0.1]\n",
    "\n",
    "# criando uma lista para armazenar os resultados do R²\n",
    "r2_results = []\n",
    "\n",
    "# Iterando sobre os valores de alpha e ajustando o modelo com cada um deles\n",
    "for alpha in alphas:\n",
    "    modelo = 'renda ~ sexo + C(tipo_renda) + C(educacao, Treatment(2)) + tempo_emprego + 1'\n",
    "    md = smf.ols(modelo, data=df)\n",
    "    reg = md.fit_regularized(\n",
    "        method='elastic_net',\n",
    "        refit=True,\n",
    "        L1_wt=0,\n",
    "        alpha=alpha  #alpha porque esse valor está sendo substituído no loop for pelos valores alphas citados acima\n",
    "    )\n",
    "    \n",
    "    # Calculando o R² na base de testes e adicionando na lista r2_results\n",
    "    y_pred = reg.predict(X_teste)\n",
    "    r2 = r2_score(y_teste, y_pred)\n",
    "    r2_results.append(r2)\n",
    "\n",
    "# Criando um DataFrame para visualização dos resultados\n",
    "results_df = pd.DataFrame({'Alpha': alphas, 'R2': r2_results})\n",
    "\n",
    "# Imprimindo os resultados\n",
    "results_df"
   ]
  },
  {
   "cell_type": "markdown",
   "metadata": {},
   "source": [
    "##### Percebemos que o modelo com uma regularização ridge com alpha de 0.010 pode ser considerada melhor por ser a maior"
   ]
  },
  {
   "cell_type": "code",
   "execution_count": 253,
   "metadata": {},
   "outputs": [
    {
     "data": {
      "text/html": [
       "<div>\n",
       "<style scoped>\n",
       "    .dataframe tbody tr th:only-of-type {\n",
       "        vertical-align: middle;\n",
       "    }\n",
       "\n",
       "    .dataframe tbody tr th {\n",
       "        vertical-align: top;\n",
       "    }\n",
       "\n",
       "    .dataframe thead th {\n",
       "        text-align: right;\n",
       "    }\n",
       "</style>\n",
       "<table border=\"1\" class=\"dataframe\">\n",
       "  <thead>\n",
       "    <tr style=\"text-align: right;\">\n",
       "      <th></th>\n",
       "      <th>Alpha</th>\n",
       "      <th>R2</th>\n",
       "    </tr>\n",
       "  </thead>\n",
       "  <tbody>\n",
       "    <tr>\n",
       "      <th>0</th>\n",
       "      <td>0.000</td>\n",
       "      <td>0.296249</td>\n",
       "    </tr>\n",
       "    <tr>\n",
       "      <th>1</th>\n",
       "      <td>0.001</td>\n",
       "      <td>0.296249</td>\n",
       "    </tr>\n",
       "    <tr>\n",
       "      <th>2</th>\n",
       "      <td>0.005</td>\n",
       "      <td>0.296249</td>\n",
       "    </tr>\n",
       "    <tr>\n",
       "      <th>3</th>\n",
       "      <td>0.010</td>\n",
       "      <td>0.296149</td>\n",
       "    </tr>\n",
       "    <tr>\n",
       "      <th>4</th>\n",
       "      <td>0.050</td>\n",
       "      <td>0.296149</td>\n",
       "    </tr>\n",
       "    <tr>\n",
       "      <th>5</th>\n",
       "      <td>0.100</td>\n",
       "      <td>0.296149</td>\n",
       "    </tr>\n",
       "  </tbody>\n",
       "</table>\n",
       "</div>"
      ],
      "text/plain": [
       "   Alpha        R2\n",
       "0  0.000  0.296249\n",
       "1  0.001  0.296249\n",
       "2  0.005  0.296249\n",
       "3  0.010  0.296149\n",
       "4  0.050  0.296149\n",
       "5  0.100  0.296149"
      ]
     },
     "execution_count": 253,
     "metadata": {},
     "output_type": "execute_result"
    }
   ],
   "source": [
    "# Criando uma lista com os valores de alpha\n",
    "alphas = [0, 0.001, 0.005, 0.01, 0.05, 0.1]\n",
    "\n",
    "# criando uma lista para armazenar os resultados do R²\n",
    "r2_results = []\n",
    "\n",
    "# Iterando sobre os valores de alpha e ajustando o modelo com cada um deles\n",
    "for alpha in alphas:\n",
    "    modelo = 'renda ~ sexo + C(tipo_renda) + C(educacao, Treatment(2)) + tempo_emprego + 1'\n",
    "    md = smf.ols(modelo, data=df)\n",
    "    reg = md.fit_regularized(\n",
    "        method='elastic_net',\n",
    "        refit=True,\n",
    "        L1_wt=1,\n",
    "        alpha=alpha  #alpha porque esse valor está sendo substituído no loop for pelos valores alphas citados acima\n",
    "    )\n",
    "    \n",
    "    # Calculando o R² na base de testes e adicionando na lista r2_results\n",
    "    y_pred = reg.predict(X_teste)\n",
    "    r2 = r2_score(y_teste, y_pred)\n",
    "    r2_results.append(r2)\n",
    "\n",
    "# Criando um DataFrame para visualização dos resultados\n",
    "results_df = pd.DataFrame({'Alpha': alphas, 'R2': r2_results})\n",
    "\n",
    "# Imprimindo os resultados\n",
    "results_df"
   ]
  },
  {
   "cell_type": "markdown",
   "metadata": {},
   "source": [
    "##### Percebemos que o modelo com uma regularização Lasso com alpha até 0.005 é considerada melhor"
   ]
  },
  {
   "cell_type": "code",
   "execution_count": 254,
   "metadata": {},
   "outputs": [],
   "source": [
    "# Rodando um modelo stepwise.\n",
    "def stepwise_selection(X, y, \n",
    "                       initial_list=[], \n",
    "                       threshold_in=0.01, \n",
    "                       threshold_out=0.05, \n",
    "                       verbose=True):\n",
    "    \n",
    "    included = list(initial_list)\n",
    "    while True:\n",
    "        changed = False\n",
    "        \n",
    "        # Forward step\n",
    "        excluded = list(set(X.columns) - set(included))\n",
    "        new_pval = {}\n",
    "        for new_column in excluded:\n",
    "            model = sm.OLS(y, X[included + [new_column]]).fit()\n",
    "            new_pval[new_column] = model.pvalues[new_column]\n",
    "        best_pval = min(new_pval.values())\n",
    "        if best_pval < threshold_in:\n",
    "            best_feature = [k for k, v in new_pval.items() if v == best_pval][0]\n",
    "            included.append(best_feature)\n",
    "            changed = True\n",
    "            if verbose:\n",
    "                print('Add  {:30} with p-value {:.6}'.format(best_feature, best_pval))\n",
    "\n",
    "        # Backward step\n",
    "        model = sm.OLS(y, X[included]).fit()\n",
    "        pvalues = model.pvalues.iloc[1:]  # Remove a constante\n",
    "        worst_pval = pvalues.max()  # null if pvalues is empty\n",
    "        if worst_pval > threshold_out:\n",
    "            changed = True\n",
    "            worst_feature = pvalues.idxmax()\n",
    "            included.remove(worst_feature)\n",
    "            if verbose:\n",
    "                print('Drop {:30} with p-value {:.6}'.format(worst_feature, worst_pval))\n",
    "        \n",
    "        if not changed:\n",
    "            break\n",
    "    return included\n"
   ]
  },
  {
   "cell_type": "code",
   "execution_count": 255,
   "metadata": {},
   "outputs": [
    {
     "name": "stdout",
     "output_type": "stream",
     "text": [
      "Add  sexo_M                         with p-value 0.0\n",
      "Add  tempo_emprego                  with p-value 0.0\n",
      "Add  educacao_Secundário            with p-value 0.000220304\n",
      "Add  tipo_renda_Empresário          with p-value 0.000919524\n",
      "Add  educacao_Superior incompleto   with p-value 0.000543283\n",
      "R² na base de testes: 0.296016782598331\n"
     ]
    }
   ],
   "source": [
    "#  Avaliando o  𝑅2 na base de testes.\n",
    "\n",
    "# Realizando o one-hot encoding para todas as colunas categóricas do X_treino\n",
    "X_treino = pd.get_dummies(X_treino, drop_first=True)\n",
    "\n",
    "# Selecionando as variáveis usando Stepwise na base de treinamento\n",
    "selected_features = stepwise_selection(X_treino, y_treino)\n",
    "\n",
    "# Ajustando o modelo final usando as variáveis selecionadas na base de treinamento\n",
    "modelo_final = sm.OLS(y_treino, X_treino[selected_features]).fit()\n",
    "\n",
    "# Calculando o R² na base de testes usando as mesmas variáveis selecionadas:\n",
    "\n",
    "# Convertendo as colunas categóricas do X_teste usando o one-hot encoding\n",
    "X_teste = pd.get_dummies(X_teste, drop_first=True)\n",
    "\n",
    "# Selecionando apenas as mesmas colunas selecionadas no selected_features\n",
    "X_teste_selected = X_teste[selected_features]\n",
    "\n",
    "# Fazendo a previsão usando o modelo final ajustado na base de treinamento\n",
    "y_pred = modelo_final.predict(X_teste_selected)\n",
    "\n",
    "# Calcule o R² na base de testes\n",
    "r2 = r2_score(y_teste, y_pred)\n",
    "print(\"R² na base de testes:\", r2)\n"
   ]
  },
  {
   "cell_type": "markdown",
   "metadata": {},
   "source": [
    "## Durante a análise dos modelos vemos:\n",
    "\n",
    "* O R² de **0.296403** do modelo com uma regularização Ridge com alpha de 0.01.\n",
    "* O R² de **0.296249** do modelo com uma regularização Lasso com alpha até 0.005.\n",
    "* O R² de **0.296016** do modelo com stepwise.\n",
    "\n",
    "Portanto o R² do modelo com uma regularização ridge com alpha de 0.010 pode ser considerado melhor."
   ]
  },
  {
   "cell_type": "code",
   "execution_count": 256,
   "metadata": {},
   "outputs": [
    {
     "name": "stdout",
     "output_type": "stream",
     "text": [
      "R² do modelo ajustado: 0.25196116762805043\n"
     ]
    }
   ],
   "source": [
    "# Preparando as colunas com as dummies sugeridas pelo stepwise\n",
    "df['sexo_m'] = (df['sexo'] == 'M').astype(int)  \n",
    "df['educacao_Secundário'] = (df['educacao'] == 'Secundário').astype(int)  \n",
    "df['tipo_renda_Empresário'] = (df['tipo_renda'] == 'Empresário').astype(int)\n",
    "df['educacao_Superior incompleto'] = (df['educacao'] == 'Superior incompleto').astype(int) \n",
    "\n",
    "# Ajustando o modelo \n",
    "modelo = 'renda ~ C(sexo_m) + C(tipo_renda_Empresário) + C(educacao_Secundário) + tempo_emprego + 0'\n",
    "md = smf.ols(modelo, data=df)\n",
    "reg = md.fit_regularized(\n",
    "        method='elastic_net',\n",
    "        refit=True,\n",
    "        L1_wt=0,\n",
    "        alpha=0.01\n",
    "    )\n",
    "\n",
    "# Obtendo os valores preditos do modelo ajustado\n",
    "y_pred = reg.fittedvalues\n",
    "\n",
    "# Calculando a soma total dos quadrados (SST)\n",
    "sst = ((df['renda'] - df['renda'].mean()) ** 2).sum()\n",
    "\n",
    "# Calculando a soma dos quadrados da regressão (SSR)\n",
    "ssr = ((y_pred - df['renda'].mean()) ** 2).sum()\n",
    "\n",
    "# Calculando o R²\n",
    "r2 = ssr / sst\n",
    "print(f\"R² do modelo ajustado: {r2}\")"
   ]
  },
  {
   "cell_type": "code",
   "execution_count": 257,
   "metadata": {},
   "outputs": [
    {
     "name": "stdout",
     "output_type": "stream",
     "text": [
      "R² da árvore de regressão (conjunto de teste): 0.27728544891221296\n"
     ]
    }
   ],
   "source": [
    "# Convertendo as variáveis categóricas em dummies\n",
    "df = pd.get_dummies(df, columns=['sexo_m', 'tipo_renda_Empresário', 'educacao_Secundário'], drop_first=True)\n",
    "\n",
    "# Separando os dados em conjunto de treinamento e teste\n",
    "X = df.drop(columns=['renda', 'data_ref', 'estado_civil', 'tipo_residencia', 'sexo', 'tipo_renda','educacao'])\n",
    "y = df['renda']\n",
    "X_train, X_test, y_train, y_test = train_test_split(X, y, test_size=0.2, random_state=42)\n",
    "\n",
    "# Ajustando a árvore de regressão com scikit-learn\n",
    "tree_regressor = DecisionTreeRegressor()\n",
    "tree_regressor.fit(X_train, y_train)\n",
    "\n",
    "# Obtendo os valores preditos da árvore de regressão no conjunto de teste\n",
    "y_pred_tree = tree_regressor.predict(X_test)\n",
    "\n",
    "# Calculando o R² da árvore de regressão no conjunto de teste\n",
    "r2_tree_test = r2_score(y_test, y_pred_tree)\n",
    "print(f\"R² da árvore de regressão (conjunto de teste): {r2_tree_test}\")"
   ]
  },
  {
   "cell_type": "markdown",
   "metadata": {},
   "source": [
    "Ao analisar os resultados, fica evidente que o modelo com árvore de decisão apresenta um desempenho superior."
   ]
  }
 ],
 "metadata": {
  "kernelspec": {
   "display_name": "Python 3 (ipykernel)",
   "language": "python",
   "name": "python3"
  },
  "language_info": {
   "codemirror_mode": {
    "name": "ipython",
    "version": 3
   },
   "file_extension": ".py",
   "mimetype": "text/x-python",
   "name": "python",
   "nbconvert_exporter": "python",
   "pygments_lexer": "ipython3",
   "version": "3.11.3"
  }
 },
 "nbformat": 4,
 "nbformat_minor": 4
}
