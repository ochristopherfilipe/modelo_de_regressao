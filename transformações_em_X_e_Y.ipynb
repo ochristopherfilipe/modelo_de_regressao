{
  "cells": [
    {
      "cell_type": "markdown",
      "metadata": {
        "id": "6BR_lDqvHTRC"
      },
      "source": [
        "# Regressão 01 - tarefa 02 - transformações em X e Y"
      ]
    },
    {
      "cell_type": "markdown",
      "metadata": {
        "id": "w3Q88OH6HTRK"
      },
      "source": [
        "### 1. Melhorando o ajuste no percentual de gorjetas\n",
        "\n",
        "a. Vamos partir do modelo feito na última tarefa, o que relaciona ```tip_pct``` e ```net_bill```. Carregue a base, os pacotes e reproduza este modelo aqui."
      ]
    },
    {
      "cell_type": "code",
      "execution_count": 252,
      "metadata": {
        "id": "uotW35JaHTRM"
      },
      "outputs": [],
      "source": [
        "import pandas as pd\n",
        "import seaborn as sns\n",
        "from seaborn import load_dataset\n",
        "\n",
        "import matplotlib.pyplot as plt\n",
        "\n",
        "import numpy as np\n",
        "\n",
        "import statsmodels.formula.api as smf\n",
        "%matplotlib inline\n",
        "plt.rc('figure', figsize=(6, 4))"
      ]
    },
    {
      "cell_type": "code",
      "source": [
        "tips = sns.load_dataset(\"tips\")\n",
        "tips['tip_pct'] = tips['tip'] / (tips['total_bill'] - tips['tip'])\n",
        "tips['net_bill'] = tips['total_bill'] - tips['tip']\n",
        "tips.head()"
      ],
      "metadata": {
        "colab": {
          "base_uri": "https://localhost:8080/",
          "height": 206
        },
        "id": "UAUAsHrEHnhF",
        "outputId": "17288683-0d36-4fad-e5b3-846fcfebcb7e"
      },
      "execution_count": 253,
      "outputs": [
        {
          "output_type": "execute_result",
          "data": {
            "text/plain": [
              "   total_bill   tip     sex smoker  day    time  size   tip_pct  net_bill\n",
              "0       16.99  1.01  Female     No  Sun  Dinner     2  0.063204     15.98\n",
              "1       10.34  1.66    Male     No  Sun  Dinner     3  0.191244      8.68\n",
              "2       21.01  3.50    Male     No  Sun  Dinner     3  0.199886     17.51\n",
              "3       23.68  3.31    Male     No  Sun  Dinner     2  0.162494     20.37\n",
              "4       24.59  3.61  Female     No  Sun  Dinner     4  0.172069     20.98"
            ],
            "text/html": [
              "\n",
              "  <div id=\"df-6f4ce36f-19ad-431b-8cb7-81a2ebe08ad3\">\n",
              "    <div class=\"colab-df-container\">\n",
              "      <div>\n",
              "<style scoped>\n",
              "    .dataframe tbody tr th:only-of-type {\n",
              "        vertical-align: middle;\n",
              "    }\n",
              "\n",
              "    .dataframe tbody tr th {\n",
              "        vertical-align: top;\n",
              "    }\n",
              "\n",
              "    .dataframe thead th {\n",
              "        text-align: right;\n",
              "    }\n",
              "</style>\n",
              "<table border=\"1\" class=\"dataframe\">\n",
              "  <thead>\n",
              "    <tr style=\"text-align: right;\">\n",
              "      <th></th>\n",
              "      <th>total_bill</th>\n",
              "      <th>tip</th>\n",
              "      <th>sex</th>\n",
              "      <th>smoker</th>\n",
              "      <th>day</th>\n",
              "      <th>time</th>\n",
              "      <th>size</th>\n",
              "      <th>tip_pct</th>\n",
              "      <th>net_bill</th>\n",
              "    </tr>\n",
              "  </thead>\n",
              "  <tbody>\n",
              "    <tr>\n",
              "      <th>0</th>\n",
              "      <td>16.99</td>\n",
              "      <td>1.01</td>\n",
              "      <td>Female</td>\n",
              "      <td>No</td>\n",
              "      <td>Sun</td>\n",
              "      <td>Dinner</td>\n",
              "      <td>2</td>\n",
              "      <td>0.063204</td>\n",
              "      <td>15.98</td>\n",
              "    </tr>\n",
              "    <tr>\n",
              "      <th>1</th>\n",
              "      <td>10.34</td>\n",
              "      <td>1.66</td>\n",
              "      <td>Male</td>\n",
              "      <td>No</td>\n",
              "      <td>Sun</td>\n",
              "      <td>Dinner</td>\n",
              "      <td>3</td>\n",
              "      <td>0.191244</td>\n",
              "      <td>8.68</td>\n",
              "    </tr>\n",
              "    <tr>\n",
              "      <th>2</th>\n",
              "      <td>21.01</td>\n",
              "      <td>3.50</td>\n",
              "      <td>Male</td>\n",
              "      <td>No</td>\n",
              "      <td>Sun</td>\n",
              "      <td>Dinner</td>\n",
              "      <td>3</td>\n",
              "      <td>0.199886</td>\n",
              "      <td>17.51</td>\n",
              "    </tr>\n",
              "    <tr>\n",
              "      <th>3</th>\n",
              "      <td>23.68</td>\n",
              "      <td>3.31</td>\n",
              "      <td>Male</td>\n",
              "      <td>No</td>\n",
              "      <td>Sun</td>\n",
              "      <td>Dinner</td>\n",
              "      <td>2</td>\n",
              "      <td>0.162494</td>\n",
              "      <td>20.37</td>\n",
              "    </tr>\n",
              "    <tr>\n",
              "      <th>4</th>\n",
              "      <td>24.59</td>\n",
              "      <td>3.61</td>\n",
              "      <td>Female</td>\n",
              "      <td>No</td>\n",
              "      <td>Sun</td>\n",
              "      <td>Dinner</td>\n",
              "      <td>4</td>\n",
              "      <td>0.172069</td>\n",
              "      <td>20.98</td>\n",
              "    </tr>\n",
              "  </tbody>\n",
              "</table>\n",
              "</div>\n",
              "      <button class=\"colab-df-convert\" onclick=\"convertToInteractive('df-6f4ce36f-19ad-431b-8cb7-81a2ebe08ad3')\"\n",
              "              title=\"Convert this dataframe to an interactive table.\"\n",
              "              style=\"display:none;\">\n",
              "        \n",
              "  <svg xmlns=\"http://www.w3.org/2000/svg\" height=\"24px\"viewBox=\"0 0 24 24\"\n",
              "       width=\"24px\">\n",
              "    <path d=\"M0 0h24v24H0V0z\" fill=\"none\"/>\n",
              "    <path d=\"M18.56 5.44l.94 2.06.94-2.06 2.06-.94-2.06-.94-.94-2.06-.94 2.06-2.06.94zm-11 1L8.5 8.5l.94-2.06 2.06-.94-2.06-.94L8.5 2.5l-.94 2.06-2.06.94zm10 10l.94 2.06.94-2.06 2.06-.94-2.06-.94-.94-2.06-.94 2.06-2.06.94z\"/><path d=\"M17.41 7.96l-1.37-1.37c-.4-.4-.92-.59-1.43-.59-.52 0-1.04.2-1.43.59L10.3 9.45l-7.72 7.72c-.78.78-.78 2.05 0 2.83L4 21.41c.39.39.9.59 1.41.59.51 0 1.02-.2 1.41-.59l7.78-7.78 2.81-2.81c.8-.78.8-2.07 0-2.86zM5.41 20L4 18.59l7.72-7.72 1.47 1.35L5.41 20z\"/>\n",
              "  </svg>\n",
              "      </button>\n",
              "      \n",
              "  <style>\n",
              "    .colab-df-container {\n",
              "      display:flex;\n",
              "      flex-wrap:wrap;\n",
              "      gap: 12px;\n",
              "    }\n",
              "\n",
              "    .colab-df-convert {\n",
              "      background-color: #E8F0FE;\n",
              "      border: none;\n",
              "      border-radius: 50%;\n",
              "      cursor: pointer;\n",
              "      display: none;\n",
              "      fill: #1967D2;\n",
              "      height: 32px;\n",
              "      padding: 0 0 0 0;\n",
              "      width: 32px;\n",
              "    }\n",
              "\n",
              "    .colab-df-convert:hover {\n",
              "      background-color: #E2EBFA;\n",
              "      box-shadow: 0px 1px 2px rgba(60, 64, 67, 0.3), 0px 1px 3px 1px rgba(60, 64, 67, 0.15);\n",
              "      fill: #174EA6;\n",
              "    }\n",
              "\n",
              "    [theme=dark] .colab-df-convert {\n",
              "      background-color: #3B4455;\n",
              "      fill: #D2E3FC;\n",
              "    }\n",
              "\n",
              "    [theme=dark] .colab-df-convert:hover {\n",
              "      background-color: #434B5C;\n",
              "      box-shadow: 0px 1px 3px 1px rgba(0, 0, 0, 0.15);\n",
              "      filter: drop-shadow(0px 1px 2px rgba(0, 0, 0, 0.3));\n",
              "      fill: #FFFFFF;\n",
              "    }\n",
              "  </style>\n",
              "\n",
              "      <script>\n",
              "        const buttonEl =\n",
              "          document.querySelector('#df-6f4ce36f-19ad-431b-8cb7-81a2ebe08ad3 button.colab-df-convert');\n",
              "        buttonEl.style.display =\n",
              "          google.colab.kernel.accessAllowed ? 'block' : 'none';\n",
              "\n",
              "        async function convertToInteractive(key) {\n",
              "          const element = document.querySelector('#df-6f4ce36f-19ad-431b-8cb7-81a2ebe08ad3');\n",
              "          const dataTable =\n",
              "            await google.colab.kernel.invokeFunction('convertToInteractive',\n",
              "                                                     [key], {});\n",
              "          if (!dataTable) return;\n",
              "\n",
              "          const docLinkHtml = 'Like what you see? Visit the ' +\n",
              "            '<a target=\"_blank\" href=https://colab.research.google.com/notebooks/data_table.ipynb>data table notebook</a>'\n",
              "            + ' to learn more about interactive tables.';\n",
              "          element.innerHTML = '';\n",
              "          dataTable['output_type'] = 'display_data';\n",
              "          await google.colab.output.renderOutput(dataTable, element);\n",
              "          const docLink = document.createElement('div');\n",
              "          docLink.innerHTML = docLinkHtml;\n",
              "          element.appendChild(docLink);\n",
              "        }\n",
              "      </script>\n",
              "    </div>\n",
              "  </div>\n",
              "  "
            ]
          },
          "metadata": {},
          "execution_count": 253
        }
      ]
    },
    {
      "cell_type": "code",
      "source": [
        "# Selecionando as linhas que tem tip_pct maior que 0.5\n",
        "tips_high_tip_pct = tips[tips['tip_pct'] > 0.5]\n",
        "tips_high_tip_pct"
      ],
      "metadata": {
        "colab": {
          "base_uri": "https://localhost:8080/",
          "height": 112
        },
        "id": "cKf76u7Oi_Te",
        "outputId": "62bb17cf-bb3f-4576-f5af-115e8dd000ca"
      },
      "execution_count": 254,
      "outputs": [
        {
          "output_type": "execute_result",
          "data": {
            "text/plain": [
              "     total_bill   tip     sex smoker  day    time  size   tip_pct  net_bill\n",
              "172        7.25  5.15    Male    Yes  Sun  Dinner     2  2.452381       2.1\n",
              "178        9.60  4.00  Female    Yes  Sun  Dinner     2  0.714286       5.6"
            ],
            "text/html": [
              "\n",
              "  <div id=\"df-39d0df7c-4518-446e-8c68-1e5f9344a4bc\">\n",
              "    <div class=\"colab-df-container\">\n",
              "      <div>\n",
              "<style scoped>\n",
              "    .dataframe tbody tr th:only-of-type {\n",
              "        vertical-align: middle;\n",
              "    }\n",
              "\n",
              "    .dataframe tbody tr th {\n",
              "        vertical-align: top;\n",
              "    }\n",
              "\n",
              "    .dataframe thead th {\n",
              "        text-align: right;\n",
              "    }\n",
              "</style>\n",
              "<table border=\"1\" class=\"dataframe\">\n",
              "  <thead>\n",
              "    <tr style=\"text-align: right;\">\n",
              "      <th></th>\n",
              "      <th>total_bill</th>\n",
              "      <th>tip</th>\n",
              "      <th>sex</th>\n",
              "      <th>smoker</th>\n",
              "      <th>day</th>\n",
              "      <th>time</th>\n",
              "      <th>size</th>\n",
              "      <th>tip_pct</th>\n",
              "      <th>net_bill</th>\n",
              "    </tr>\n",
              "  </thead>\n",
              "  <tbody>\n",
              "    <tr>\n",
              "      <th>172</th>\n",
              "      <td>7.25</td>\n",
              "      <td>5.15</td>\n",
              "      <td>Male</td>\n",
              "      <td>Yes</td>\n",
              "      <td>Sun</td>\n",
              "      <td>Dinner</td>\n",
              "      <td>2</td>\n",
              "      <td>2.452381</td>\n",
              "      <td>2.1</td>\n",
              "    </tr>\n",
              "    <tr>\n",
              "      <th>178</th>\n",
              "      <td>9.60</td>\n",
              "      <td>4.00</td>\n",
              "      <td>Female</td>\n",
              "      <td>Yes</td>\n",
              "      <td>Sun</td>\n",
              "      <td>Dinner</td>\n",
              "      <td>2</td>\n",
              "      <td>0.714286</td>\n",
              "      <td>5.6</td>\n",
              "    </tr>\n",
              "  </tbody>\n",
              "</table>\n",
              "</div>\n",
              "      <button class=\"colab-df-convert\" onclick=\"convertToInteractive('df-39d0df7c-4518-446e-8c68-1e5f9344a4bc')\"\n",
              "              title=\"Convert this dataframe to an interactive table.\"\n",
              "              style=\"display:none;\">\n",
              "        \n",
              "  <svg xmlns=\"http://www.w3.org/2000/svg\" height=\"24px\"viewBox=\"0 0 24 24\"\n",
              "       width=\"24px\">\n",
              "    <path d=\"M0 0h24v24H0V0z\" fill=\"none\"/>\n",
              "    <path d=\"M18.56 5.44l.94 2.06.94-2.06 2.06-.94-2.06-.94-.94-2.06-.94 2.06-2.06.94zm-11 1L8.5 8.5l.94-2.06 2.06-.94-2.06-.94L8.5 2.5l-.94 2.06-2.06.94zm10 10l.94 2.06.94-2.06 2.06-.94-2.06-.94-.94-2.06-.94 2.06-2.06.94z\"/><path d=\"M17.41 7.96l-1.37-1.37c-.4-.4-.92-.59-1.43-.59-.52 0-1.04.2-1.43.59L10.3 9.45l-7.72 7.72c-.78.78-.78 2.05 0 2.83L4 21.41c.39.39.9.59 1.41.59.51 0 1.02-.2 1.41-.59l7.78-7.78 2.81-2.81c.8-.78.8-2.07 0-2.86zM5.41 20L4 18.59l7.72-7.72 1.47 1.35L5.41 20z\"/>\n",
              "  </svg>\n",
              "      </button>\n",
              "      \n",
              "  <style>\n",
              "    .colab-df-container {\n",
              "      display:flex;\n",
              "      flex-wrap:wrap;\n",
              "      gap: 12px;\n",
              "    }\n",
              "\n",
              "    .colab-df-convert {\n",
              "      background-color: #E8F0FE;\n",
              "      border: none;\n",
              "      border-radius: 50%;\n",
              "      cursor: pointer;\n",
              "      display: none;\n",
              "      fill: #1967D2;\n",
              "      height: 32px;\n",
              "      padding: 0 0 0 0;\n",
              "      width: 32px;\n",
              "    }\n",
              "\n",
              "    .colab-df-convert:hover {\n",
              "      background-color: #E2EBFA;\n",
              "      box-shadow: 0px 1px 2px rgba(60, 64, 67, 0.3), 0px 1px 3px 1px rgba(60, 64, 67, 0.15);\n",
              "      fill: #174EA6;\n",
              "    }\n",
              "\n",
              "    [theme=dark] .colab-df-convert {\n",
              "      background-color: #3B4455;\n",
              "      fill: #D2E3FC;\n",
              "    }\n",
              "\n",
              "    [theme=dark] .colab-df-convert:hover {\n",
              "      background-color: #434B5C;\n",
              "      box-shadow: 0px 1px 3px 1px rgba(0, 0, 0, 0.15);\n",
              "      filter: drop-shadow(0px 1px 2px rgba(0, 0, 0, 0.3));\n",
              "      fill: #FFFFFF;\n",
              "    }\n",
              "  </style>\n",
              "\n",
              "      <script>\n",
              "        const buttonEl =\n",
              "          document.querySelector('#df-39d0df7c-4518-446e-8c68-1e5f9344a4bc button.colab-df-convert');\n",
              "        buttonEl.style.display =\n",
              "          google.colab.kernel.accessAllowed ? 'block' : 'none';\n",
              "\n",
              "        async function convertToInteractive(key) {\n",
              "          const element = document.querySelector('#df-39d0df7c-4518-446e-8c68-1e5f9344a4bc');\n",
              "          const dataTable =\n",
              "            await google.colab.kernel.invokeFunction('convertToInteractive',\n",
              "                                                     [key], {});\n",
              "          if (!dataTable) return;\n",
              "\n",
              "          const docLinkHtml = 'Like what you see? Visit the ' +\n",
              "            '<a target=\"_blank\" href=https://colab.research.google.com/notebooks/data_table.ipynb>data table notebook</a>'\n",
              "            + ' to learn more about interactive tables.';\n",
              "          element.innerHTML = '';\n",
              "          dataTable['output_type'] = 'display_data';\n",
              "          await google.colab.output.renderOutput(dataTable, element);\n",
              "          const docLink = document.createElement('div');\n",
              "          docLink.innerHTML = docLinkHtml;\n",
              "          element.appendChild(docLink);\n",
              "        }\n",
              "      </script>\n",
              "    </div>\n",
              "  </div>\n",
              "  "
            ]
          },
          "metadata": {},
          "execution_count": 254
        }
      ]
    },
    {
      "cell_type": "code",
      "source": [
        "# Excluindo as linhas que selecionei com valor de tip_pct maior que 0.5\n",
        "tips = tips.drop(tips_high_tip_pct.index)\n"
      ],
      "metadata": {
        "id": "eJICQ_Dki16R"
      },
      "execution_count": 255,
      "outputs": []
    },
    {
      "cell_type": "code",
      "source": [
        "reg = smf.ols('tip_pct ~ net_bill', data = tips).fit()\n",
        "reg.summary()"
      ],
      "metadata": {
        "colab": {
          "base_uri": "https://localhost:8080/",
          "height": 452
        },
        "id": "5W-0QvA8Hzca",
        "outputId": "901bed60-cb70-4656-e607-8e32e16a64f3"
      },
      "execution_count": 256,
      "outputs": [
        {
          "output_type": "execute_result",
          "data": {
            "text/plain": [
              "<class 'statsmodels.iolib.summary.Summary'>\n",
              "\"\"\"\n",
              "                            OLS Regression Results                            \n",
              "==============================================================================\n",
              "Dep. Variable:                tip_pct   R-squared:                       0.189\n",
              "Model:                            OLS   Adj. R-squared:                  0.186\n",
              "Method:                 Least Squares   F-statistic:                     56.10\n",
              "Date:                Thu, 29 Jun 2023   Prob (F-statistic):           1.31e-12\n",
              "Time:                        00:51:29   Log-Likelihood:                 331.48\n",
              "No. Observations:                 242   AIC:                            -659.0\n",
              "Df Residuals:                     240   BIC:                            -652.0\n",
              "Df Model:                           1                                         \n",
              "Covariance Type:            nonrobust                                         \n",
              "==============================================================================\n",
              "                 coef    std err          t      P>|t|      [0.025      0.975]\n",
              "------------------------------------------------------------------------------\n",
              "Intercept      0.2538      0.009     27.252      0.000       0.235       0.272\n",
              "net_bill      -0.0037      0.000     -7.490      0.000      -0.005      -0.003\n",
              "==============================================================================\n",
              "Omnibus:                       25.646   Durbin-Watson:                   1.987\n",
              "Prob(Omnibus):                  0.000   Jarque-Bera (JB):               31.523\n",
              "Skew:                           0.764   Prob(JB):                     1.43e-07\n",
              "Kurtosis:                       3.889   Cond. No.                         43.9\n",
              "==============================================================================\n",
              "\n",
              "Notes:\n",
              "[1] Standard Errors assume that the covariance matrix of the errors is correctly specified.\n",
              "\"\"\""
            ],
            "text/html": [
              "<table class=\"simpletable\">\n",
              "<caption>OLS Regression Results</caption>\n",
              "<tr>\n",
              "  <th>Dep. Variable:</th>         <td>tip_pct</td>     <th>  R-squared:         </th> <td>   0.189</td>\n",
              "</tr>\n",
              "<tr>\n",
              "  <th>Model:</th>                   <td>OLS</td>       <th>  Adj. R-squared:    </th> <td>   0.186</td>\n",
              "</tr>\n",
              "<tr>\n",
              "  <th>Method:</th>             <td>Least Squares</td>  <th>  F-statistic:       </th> <td>   56.10</td>\n",
              "</tr>\n",
              "<tr>\n",
              "  <th>Date:</th>             <td>Thu, 29 Jun 2023</td> <th>  Prob (F-statistic):</th> <td>1.31e-12</td>\n",
              "</tr>\n",
              "<tr>\n",
              "  <th>Time:</th>                 <td>00:51:29</td>     <th>  Log-Likelihood:    </th> <td>  331.48</td>\n",
              "</tr>\n",
              "<tr>\n",
              "  <th>No. Observations:</th>      <td>   242</td>      <th>  AIC:               </th> <td>  -659.0</td>\n",
              "</tr>\n",
              "<tr>\n",
              "  <th>Df Residuals:</th>          <td>   240</td>      <th>  BIC:               </th> <td>  -652.0</td>\n",
              "</tr>\n",
              "<tr>\n",
              "  <th>Df Model:</th>              <td>     1</td>      <th>                     </th>     <td> </td>   \n",
              "</tr>\n",
              "<tr>\n",
              "  <th>Covariance Type:</th>      <td>nonrobust</td>    <th>                     </th>     <td> </td>   \n",
              "</tr>\n",
              "</table>\n",
              "<table class=\"simpletable\">\n",
              "<tr>\n",
              "      <td></td>         <th>coef</th>     <th>std err</th>      <th>t</th>      <th>P>|t|</th>  <th>[0.025</th>    <th>0.975]</th>  \n",
              "</tr>\n",
              "<tr>\n",
              "  <th>Intercept</th> <td>    0.2538</td> <td>    0.009</td> <td>   27.252</td> <td> 0.000</td> <td>    0.235</td> <td>    0.272</td>\n",
              "</tr>\n",
              "<tr>\n",
              "  <th>net_bill</th>  <td>   -0.0037</td> <td>    0.000</td> <td>   -7.490</td> <td> 0.000</td> <td>   -0.005</td> <td>   -0.003</td>\n",
              "</tr>\n",
              "</table>\n",
              "<table class=\"simpletable\">\n",
              "<tr>\n",
              "  <th>Omnibus:</th>       <td>25.646</td> <th>  Durbin-Watson:     </th> <td>   1.987</td>\n",
              "</tr>\n",
              "<tr>\n",
              "  <th>Prob(Omnibus):</th> <td> 0.000</td> <th>  Jarque-Bera (JB):  </th> <td>  31.523</td>\n",
              "</tr>\n",
              "<tr>\n",
              "  <th>Skew:</th>          <td> 0.764</td> <th>  Prob(JB):          </th> <td>1.43e-07</td>\n",
              "</tr>\n",
              "<tr>\n",
              "  <th>Kurtosis:</th>      <td> 3.889</td> <th>  Cond. No.          </th> <td>    43.9</td>\n",
              "</tr>\n",
              "</table><br/><br/>Notes:<br/>[1] Standard Errors assume that the covariance matrix of the errors is correctly specified."
            ]
          },
          "metadata": {},
          "execution_count": 256
        }
      ]
    },
    {
      "cell_type": "markdown",
      "metadata": {
        "id": "eowrtPLAHTRN"
      },
      "source": [
        "### 2. ajuste o modelo de ```tip_pct``` em função do logaritmo de ```net_bill```."
      ]
    },
    {
      "cell_type": "code",
      "execution_count": 257,
      "metadata": {
        "colab": {
          "base_uri": "https://localhost:8080/",
          "height": 839
        },
        "id": "8ra1D5YPHTRP",
        "outputId": "39598aef-85f4-4f99-b718-853b58fb0e9e"
      },
      "outputs": [
        {
          "output_type": "stream",
          "name": "stdout",
          "text": [
            "                            OLS Regression Results                            \n",
            "==============================================================================\n",
            "Dep. Variable:                      y   R-squared:                       0.221\n",
            "Model:                            OLS   Adj. R-squared:                  0.217\n",
            "Method:                 Least Squares   F-statistic:                     67.94\n",
            "Date:                Thu, 29 Jun 2023   Prob (F-statistic):           1.11e-14\n",
            "Time:                        00:51:33   Log-Likelihood:                 336.23\n",
            "No. Observations:                 242   AIC:                            -668.5\n",
            "Df Residuals:                     240   BIC:                            -661.5\n",
            "Df Model:                           1                                         \n",
            "Covariance Type:            nonrobust                                         \n",
            "==================================================================================\n",
            "                     coef    std err          t      P>|t|      [0.025      0.975]\n",
            "----------------------------------------------------------------------------------\n",
            "Intercept          0.3836      0.024     16.168      0.000       0.337       0.430\n",
            "np.log(x + .1)    -0.0706      0.009     -8.242      0.000      -0.088      -0.054\n",
            "==============================================================================\n",
            "Omnibus:                       15.746   Durbin-Watson:                   2.037\n",
            "Prob(Omnibus):                  0.000   Jarque-Bera (JB):               16.949\n",
            "Skew:                           0.632   Prob(JB):                     0.000209\n",
            "Kurtosis:                       3.284   Cond. No.                         19.0\n",
            "==============================================================================\n",
            "\n",
            "Notes:\n",
            "[1] Standard Errors assume that the covariance matrix of the errors is correctly specified.\n"
          ]
        },
        {
          "output_type": "execute_result",
          "data": {
            "text/plain": [
              "<matplotlib.lines.Line2D at 0x7f1e7c34db40>"
            ]
          },
          "metadata": {},
          "execution_count": 257
        },
        {
          "output_type": "display_data",
          "data": {
            "text/plain": [
              "<Figure size 600x400 with 1 Axes>"
            ],
            "image/png": "[encoded data removed]"
          },
          "metadata": {}
        }
      ],
      "source": [
        "y = tips['tip_pct']\n",
        "x = tips['net_bill']\n",
        "\n",
        "reg = smf.ols('y ~ np.log(x+.1)', data = tips).fit()\n",
        "print(reg.summary())\n",
        "tips['res'] = reg.resid\n",
        "\n",
        "sns.scatterplot(x = x, y = 'res', data = tips, alpha = .75)\n",
        "plt.axhline(y=0, color='r', linestyle='--')"
      ]
    },
    {
      "cell_type": "markdown",
      "metadata": {
        "id": "OFarYVNgHTRP"
      },
      "source": [
        "###  3. ajuste o modelo de ```tip_pct``` em função de um polinômio de segundo grau em ```net_bill```."
      ]
    },
    {
      "cell_type": "code",
      "execution_count": 258,
      "metadata": {
        "colab": {
          "base_uri": "https://localhost:8080/",
          "height": 891
        },
        "id": "XzJLm8c8HTRQ",
        "outputId": "53a2f263-6066-4756-8a7e-1f2cada7faf2"
      },
      "outputs": [
        {
          "output_type": "stream",
          "name": "stdout",
          "text": [
            "                            OLS Regression Results                            \n",
            "==============================================================================\n",
            "Dep. Variable:                      y   R-squared:                       0.206\n",
            "Model:                            OLS   Adj. R-squared:                  0.199\n",
            "Method:                 Least Squares   F-statistic:                     30.98\n",
            "Date:                Thu, 29 Jun 2023   Prob (F-statistic):           1.09e-12\n",
            "Time:                        00:51:39   Log-Likelihood:                 333.96\n",
            "No. Observations:                 242   AIC:                            -661.9\n",
            "Df Residuals:                     239   BIC:                            -651.5\n",
            "Df Model:                           2                                         \n",
            "Covariance Type:            nonrobust                                         \n",
            "==================================================================================\n",
            "                     coef    std err          t      P>|t|      [0.025      0.975]\n",
            "----------------------------------------------------------------------------------\n",
            "Intercept          0.2932      0.020     14.668      0.000       0.254       0.333\n",
            "x                 -0.0082      0.002     -3.961      0.000      -0.012      -0.004\n",
            "np.power(x, 2)     0.0001   4.67e-05      2.223      0.027    1.18e-05       0.000\n",
            "==============================================================================\n",
            "Omnibus:                       19.830   Durbin-Watson:                   2.059\n",
            "Prob(Omnibus):                  0.000   Jarque-Bera (JB):               22.215\n",
            "Skew:                           0.696   Prob(JB):                     1.50e-05\n",
            "Kurtosis:                       3.514   Cond. No.                     2.54e+03\n",
            "==============================================================================\n",
            "\n",
            "Notes:\n",
            "[1] Standard Errors assume that the covariance matrix of the errors is correctly specified.\n",
            "[2] The condition number is large, 2.54e+03. This might indicate that there are\n",
            "strong multicollinearity or other numerical problems.\n"
          ]
        },
        {
          "output_type": "execute_result",
          "data": {
            "text/plain": [
              "<matplotlib.lines.Line2D at 0x7f1e7c3a17b0>"
            ]
          },
          "metadata": {},
          "execution_count": 258
        },
        {
          "output_type": "display_data",
          "data": {
            "text/plain": [
              "<Figure size 600x400 with 1 Axes>"
            ],
            "image/png": "[encoded data removed]"
          },
          "metadata": {}
        }
      ],
      "source": [
        "reg = smf.ols('y ~ x + np.power(x,2)', data = tips).fit()\n",
        "print(reg.summary())\n",
        "tips['res'] = reg.resid\n",
        "\n",
        "sns.scatterplot(x = x, y = 'res', data = tips, alpha = .75)\n",
        "plt.axhline(y=0, color='r', linestyle='--')"
      ]
    },
    {
      "cell_type": "markdown",
      "metadata": {
        "id": "EY203MPrHTRR"
      },
      "source": [
        "###  4. ajuste um modelo no log do ```tip_pct``` em função de ```net_bill```. Calcule o $R^2$ também em ```tip_pct```"
      ]
    },
    {
      "cell_type": "code",
      "execution_count": 259,
      "metadata": {
        "colab": {
          "base_uri": "https://localhost:8080/",
          "height": 839
        },
        "id": "899aGqKnHTRS",
        "outputId": "d295dd05-91f9-4c4e-e8a2-299111c1154b"
      },
      "outputs": [
        {
          "output_type": "stream",
          "name": "stdout",
          "text": [
            "                            OLS Regression Results                            \n",
            "==============================================================================\n",
            "Dep. Variable:         np.log(x + .1)   R-squared:                       0.221\n",
            "Model:                            OLS   Adj. R-squared:                  0.217\n",
            "Method:                 Least Squares   F-statistic:                     67.94\n",
            "Date:                Thu, 29 Jun 2023   Prob (F-statistic):           1.11e-14\n",
            "Time:                        00:51:43   Log-Likelihood:                -122.23\n",
            "No. Observations:                 242   AIC:                             248.5\n",
            "Df Residuals:                     240   BIC:                             255.4\n",
            "Df Model:                           1                                         \n",
            "Covariance Type:            nonrobust                                         \n",
            "==============================================================================\n",
            "                 coef    std err          t      P>|t|      [0.025      0.975]\n",
            "------------------------------------------------------------------------------\n",
            "Intercept      3.3266      0.077     43.341      0.000       3.175       3.478\n",
            "y             -3.1229      0.379     -8.242      0.000      -3.869      -2.377\n",
            "==============================================================================\n",
            "Omnibus:                        0.334   Durbin-Watson:                   1.863\n",
            "Prob(Omnibus):                  0.846   Jarque-Bera (JB):                0.477\n",
            "Skew:                           0.041   Prob(JB):                        0.788\n",
            "Kurtosis:                       2.799   Cond. No.                         15.2\n",
            "==============================================================================\n",
            "\n",
            "Notes:\n",
            "[1] Standard Errors assume that the covariance matrix of the errors is correctly specified.\n"
          ]
        },
        {
          "output_type": "execute_result",
          "data": {
            "text/plain": [
              "<matplotlib.lines.Line2D at 0x7f1e7e7f94e0>"
            ]
          },
          "metadata": {},
          "execution_count": 259
        },
        {
          "output_type": "display_data",
          "data": {
            "text/plain": [
              "<Figure size 600x400 with 1 Axes>"
            ],
            "image/png": "[encoded data removed]"
          },
          "metadata": {}
        }
      ],
      "source": [
        "reg = smf.ols('np.log(x+.1) ~ y', data = tips).fit()\n",
        "print(reg.summary())\n",
        "tips['res'] = reg.resid\n",
        "\n",
        "sns.scatterplot(x = x, y = 'res', data = tips, alpha = .75)\n",
        "plt.axhline(y=0, color='r', linestyle='--')"
      ]
    },
    {
      "cell_type": "code",
      "source": [
        "tips['pred'] = reg.fittedvalues\n",
        "\n",
        "r = tips[['pred', 'net_bill']].corr().iloc[0,1]"
      ],
      "metadata": {
        "id": "80R2e4qkcttO"
      },
      "execution_count": 260,
      "outputs": []
    },
    {
      "cell_type": "code",
      "source": [
        "r**2"
      ],
      "metadata": {
        "colab": {
          "base_uri": "https://localhost:8080/"
        },
        "id": "WUeS0L1Mc1fw",
        "outputId": "10c2f2cf-d706-4b6d-f613-242eaee03f90"
      },
      "execution_count": 261,
      "outputs": [
        {
          "output_type": "execute_result",
          "data": {
            "text/plain": [
              "0.1894639462920304"
            ]
          },
          "metadata": {},
          "execution_count": 261
        }
      ]
    },
    {
      "cell_type": "markdown",
      "metadata": {
        "id": "TyEMcDxFHTRT"
      },
      "source": [
        "###  5. ajuste um modelo no log do ```tip_pct``` em função do log de ```net_bill```. Calcule o $R^2$ também em ```tip_pct```."
      ]
    },
    {
      "cell_type": "code",
      "execution_count": 262,
      "metadata": {
        "id": "ZqRp0PGMHTRU",
        "colab": {
          "base_uri": "https://localhost:8080/",
          "height": 839
        },
        "outputId": "2a3c6f03-2d07-43d6-a9b7-6b48eaddf274"
      },
      "outputs": [
        {
          "output_type": "stream",
          "name": "stdout",
          "text": [
            "                            OLS Regression Results                            \n",
            "==============================================================================\n",
            "Dep. Variable:         np.log(y + .1)   R-squared:                       0.228\n",
            "Model:                            OLS   Adj. R-squared:                  0.225\n",
            "Method:                 Least Squares   F-statistic:                     70.94\n",
            "Date:                Thu, 29 Jun 2023   Prob (F-statistic):           3.39e-15\n",
            "Time:                        00:51:52   Log-Likelihood:                 38.806\n",
            "No. Observations:                 242   AIC:                            -73.61\n",
            "Df Residuals:                     240   BIC:                            -66.63\n",
            "Df Model:                           1                                         \n",
            "Covariance Type:            nonrobust                                         \n",
            "==================================================================================\n",
            "                     coef    std err          t      P>|t|      [0.025      0.975]\n",
            "----------------------------------------------------------------------------------\n",
            "Intercept         -0.5889      0.081     -7.261      0.000      -0.749      -0.429\n",
            "np.log(x + .1)    -0.2467      0.029     -8.423      0.000      -0.304      -0.189\n",
            "==============================================================================\n",
            "Omnibus:                        0.372   Durbin-Watson:                   2.004\n",
            "Prob(Omnibus):                  0.830   Jarque-Bera (JB):                0.514\n",
            "Skew:                           0.036   Prob(JB):                        0.773\n",
            "Kurtosis:                       2.786   Cond. No.                         19.0\n",
            "==============================================================================\n",
            "\n",
            "Notes:\n",
            "[1] Standard Errors assume that the covariance matrix of the errors is correctly specified.\n"
          ]
        },
        {
          "output_type": "execute_result",
          "data": {
            "text/plain": [
              "<matplotlib.lines.Line2D at 0x7f1e7c2c9570>"
            ]
          },
          "metadata": {},
          "execution_count": 262
        },
        {
          "output_type": "display_data",
          "data": {
            "text/plain": [
              "<Figure size 600x400 with 1 Axes>"
            ],
            "image/png": "[encoded data removed]"
          },
          "metadata": {}
        }
      ],
      "source": [
        "reg = smf.ols('np.log(y+.1) ~ np.log(x+.1)', data= tips).fit()\n",
        "print(reg.summary())\n",
        "tips['res'] = reg.resid\n",
        "\n",
        "sns.scatterplot(x=x, y=tips['res'], data=tips, alpha=.75)\n",
        "plt.axhline(y=0, color='r', linestyle='--')\n"
      ]
    },
    {
      "cell_type": "code",
      "source": [
        "tips['pred'] = reg.fittedvalues\n",
        "\n",
        "r = tips[['pred', 'net_bill']].corr().iloc[0,1]\n",
        "r**2"
      ],
      "metadata": {
        "colab": {
          "base_uri": "https://localhost:8080/"
        },
        "id": "DwauqEUwoGnb",
        "outputId": "4ef0289d-a2ed-461d-f5b3-86ab6e4c58b2"
      },
      "execution_count": 263,
      "outputs": [
        {
          "output_type": "execute_result",
          "data": {
            "text/plain": [
              "0.9083470038478527"
            ]
          },
          "metadata": {},
          "execution_count": 263
        }
      ]
    },
    {
      "cell_type": "markdown",
      "metadata": {
        "id": "PFFt-C0VHTRU"
      },
      "source": [
        "###  6. qual modelo resultou no melhor ajuste?"
      ]
    },
    {
      "cell_type": "markdown",
      "source": [
        "O último modelo com log do tip_pct em função do log de net_bill"
      ],
      "metadata": {
        "id": "j1g2MvF6n_DG"
      }
    }
  ],
  "metadata": {
    "kernelspec": {
      "display_name": "Python 3",
      "language": "python",
      "name": "python3"
    },
    "language_info": {
      "codemirror_mode": {
        "name": "ipython",
        "version": 3
      },
      "file_extension": ".py",
      "mimetype": "text/x-python",
      "name": "python",
      "nbconvert_exporter": "python",
      "pygments_lexer": "ipython3",
      "version": "3.8.5"
    },
    "colab": {
      "provenance": []
    }
  },
  "nbformat": 4,
  "nbformat_minor": 0
}